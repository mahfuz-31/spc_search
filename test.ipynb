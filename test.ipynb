{
 "cells": [
  {
   "cell_type": "code",
   "execution_count": 5,
   "id": "08da54fa",
   "metadata": {},
   "outputs": [
    {
     "name": "stdout",
     "output_type": "stream",
     "text": [
      "-------------- Mahfuz Special Search ----------------\n",
      "\n",
      "Process completed 33 %  <----> FRS: 2025/3985\n"
     ]
    },
    {
     "name": "stderr",
     "output_type": "stream",
     "text": [
      "C:\\Users\\Mahafuz\\AppData\\Local\\Temp\\ipykernel_10868\\2102165318.py:42: FutureWarning: Setting an item of incompatible dtype is deprecated and will raise an error in a future version of pandas. Value 'GEORGE' has dtype incompatible with float64, please explicitly cast to a compatible dtype first.\n",
      "  df.loc[row_idx, 'Buyer'] = rows[3][0]\n",
      "C:\\Users\\Mahafuz\\AppData\\Local\\Temp\\ipykernel_10868\\2102165318.py:43: FutureWarning: Setting an item of incompatible dtype is deprecated and will raise an error in a future version of pandas. Value '2025/3985' has dtype incompatible with float64, please explicitly cast to a compatible dtype first.\n",
      "  df.loc[row_idx, 'Order'] = rows[3][1]\n",
      "C:\\Users\\Mahafuz\\AppData\\Local\\Temp\\ipykernel_10868\\2102165318.py:44: FutureWarning: Setting an item of incompatible dtype is deprecated and will raise an error in a future version of pandas. Value 'BGSPQ1195' has dtype incompatible with float64, please explicitly cast to a compatible dtype first.\n",
      "  df.loc[row_idx, 'Style'] = rows[3][2]\n",
      "C:\\Users\\Mahafuz\\AppData\\Local\\Temp\\ipykernel_10868\\2102165318.py:45: FutureWarning: Setting an item of incompatible dtype is deprecated and will raise an error in a future version of pandas. Value 'Body+Frill+Neck tape' has dtype incompatible with float64, please explicitly cast to a compatible dtype first.\n",
      "  df.loc[row_idx, 'UoF'] = row[1]\n",
      "C:\\Users\\Mahafuz\\AppData\\Local\\Temp\\ipykernel_10868\\2102165318.py:46: FutureWarning: Setting an item of incompatible dtype is deprecated and will raise an error in a future version of pandas. Value '11-0607 Tcx Sugar Swizzle AOP ' has dtype incompatible with float64, please explicitly cast to a compatible dtype first.\n",
      "  df.loc[row_idx, 'F. Color'] = row[2][0:row[2].find('(')]\n",
      "C:\\Users\\Mahafuz\\AppData\\Local\\Temp\\ipykernel_10868\\2102165318.py:47: FutureWarning: Setting an item of incompatible dtype is deprecated and will raise an error in a future version of pandas. Value 'Multi' has dtype incompatible with float64, please explicitly cast to a compatible dtype first.\n",
      "  df.loc[row_idx, 'G. Color'] = row[3]\n",
      "C:\\Users\\Mahafuz\\AppData\\Local\\Temp\\ipykernel_10868\\2102165318.py:48: FutureWarning: Setting an item of incompatible dtype is deprecated and will raise an error in a future version of pandas. Value '100% BCI COTTON' has dtype incompatible with float64, please explicitly cast to a compatible dtype first.\n",
      "  df.loc[row_idx, 'Y. Type'] = row[4]\n",
      "C:\\Users\\Mahafuz\\AppData\\Local\\Temp\\ipykernel_10868\\2102165318.py:49: FutureWarning: Setting an item of incompatible dtype is deprecated and will raise an error in a future version of pandas. Value 'SLUB S/J' has dtype incompatible with float64, please explicitly cast to a compatible dtype first.\n",
      "  df.loc[row_idx, 'F. Type'] = row[5]\n",
      "C:\\Users\\Mahafuz\\AppData\\Local\\Temp\\ipykernel_10868\\2102165318.py:51: FutureWarning: Setting an item of incompatible dtype is deprecated and will raise an error in a future version of pandas. Value '68\"Open' has dtype incompatible with float64, please explicitly cast to a compatible dtype first.\n",
      "  df.loc[row_idx, 'Dia'] = row[7]\n",
      "C:\\Users\\Mahafuz\\AppData\\Local\\Temp\\ipykernel_10868\\2102165318.py:66: FutureWarning: Setting an item of incompatible dtype is deprecated and will raise an error in a future version of pandas. Value 'Jinnat' has dtype incompatible with float64, please explicitly cast to a compatible dtype first.\n",
      "  df.loc[row_idx, 'Unit Store'] = 'Jinnat'\n",
      "C:\\Users\\Mahafuz\\AppData\\Local\\Temp\\ipykernel_10868\\2102165318.py:78: FutureWarning: Setting an item of incompatible dtype is deprecated and will raise an error in a future version of pandas. Value '' has dtype incompatible with float64, please explicitly cast to a compatible dtype first.\n",
      "  df.loc[row_idx, 'Transfer To'] = row[19]\n",
      "C:\\Users\\Mahafuz\\AppData\\Local\\Temp\\ipykernel_10868\\2102165318.py:79: FutureWarning: Setting an item of incompatible dtype is deprecated and will raise an error in a future version of pandas. Value '' has dtype incompatible with float64, please explicitly cast to a compatible dtype first.\n",
      "  df.loc[row_idx, 'Transfer From'] = row[20]\n",
      "C:\\Users\\Mahafuz\\AppData\\Local\\Temp\\ipykernel_10868\\2102165318.py:82: FutureWarning: Setting an item of incompatible dtype is deprecated and will raise an error in a future version of pandas. Value 'CCL-07' has dtype incompatible with float64, please explicitly cast to a compatible dtype first.\n",
      "  df.loc[row_idx, 'Dyeing Unit'] = row[26]\n",
      "C:\\Users\\Mahafuz\\AppData\\Local\\Temp\\ipykernel_10868\\2102165318.py:83: FutureWarning: Setting an item of incompatible dtype is deprecated and will raise an error in a future version of pandas. Value '03-Mar-2025' has dtype incompatible with float64, please explicitly cast to a compatible dtype first.\n",
      "  df.loc[row_idx, 'Order Sheet Receive Date'] = rows[3][4]\n",
      "C:\\Users\\Mahafuz\\AppData\\Local\\Temp\\ipykernel_10868\\2102165318.py:84: FutureWarning: Setting an item of incompatible dtype is deprecated and will raise an error in a future version of pandas. Value '10-May-2025' has dtype incompatible with float64, please explicitly cast to a compatible dtype first.\n",
      "  df.loc[row_idx, 'Cut Plan Start Date'] = rows[3][5]\n",
      "C:\\Users\\Mahafuz\\AppData\\Local\\Temp\\ipykernel_10868\\2102165318.py:85: FutureWarning: Setting an item of incompatible dtype is deprecated and will raise an error in a future version of pandas. Value '15-May-2025' has dtype incompatible with float64, please explicitly cast to a compatible dtype first.\n",
      "  df.loc[row_idx, 'Cut Plan End Date'] = rows[3][6]\n"
     ]
    },
    {
     "name": "stdout",
     "output_type": "stream",
     "text": [
      "Process completed 66 %  <----> FRS: 2025/13605\n",
      "Process completed 100 %  <----> FRS: 2025/6477\n"
     ]
    }
   ],
   "source": [
    "import requests as rq\n",
    "from bs4 import BeautifulSoup as bs\n",
    "import pandas as pd\n",
    "\n",
    "def convert_to_number(s):\n",
    "    # Remove commas from the string\n",
    "    s = s.replace(\",\", \"\")\n",
    "    # Convert to float if there's a decimal point, otherwise to convert_to_number\n",
    "    return float(s) if '.' in s else int(s)\n",
    "\n",
    "print('-------------- Mahfuz Special Search ----------------\\n')\n",
    "ordersdf = pd.read_excel('orders.xlsx')\n",
    "\n",
    "df = pd.DataFrame()\n",
    "columns = [\"Buyer\", \"Order\", 'Style',\t'UoF',\t'F. Color',\t'G. Color', 'Y. Type', 'F. Type', 'GSM', 'Dia',\t'G/F Order With S.Note Qty', 'G/F S.Note Qty',\t'Net Grey Receive Qty',\t'G/F Rcv Balance Qty',\t'F/F Order with S.Note Qty',\t'F/F S.Note Qty',\t'F/F Delv Qty',\t'F/F Delv. Balance Qty',\t'Replacement Delivery',\t'F/F Excess Delv.Qty',\t'Transfer To',\t'Transfer From',\t'Return Receive',\t'Return Delivery',\t'Dyeing Unit',\t'Order Sheet Receive Date', 'Cut Plan Start Date',\t'Cut Plan End Date', 'Unit Store']\n",
    "df = df.reindex(columns=df.columns.tolist() + columns)\n",
    "\n",
    "row_idx = 0\n",
    "no_of_orders = len(ordersdf['FRS No.'])\n",
    "\n",
    "for index, r in ordersdf.iterrows():\n",
    "    order = r['FRS No.']\n",
    "    print(\"Process completed\", int((index + 1) * 100 / no_of_orders), \"%  <---->\", 'FRS:', order)\n",
    "    # print(\"\\nCalculating for order: \", order)\n",
    "    url = 'http://192.168.13.253/mymun/Work%20Order/combineSearchResult.php?Welcome=7&GetOrderNO=' + str(order)\n",
    "    response = rq.get(url)\n",
    "\n",
    "    html_content = bs(response.content, 'html.parser')\n",
    "    rows = []\n",
    "    for row in html_content.find_all('tr'):\n",
    "        row_data = [cell.get_text(strip=True) for cell in row.find_all('td')]\n",
    "        rows.append(row_data)\n",
    "\n",
    "    row_idx2 = row_idx\n",
    "    si = 1\n",
    "    for row in rows:\n",
    "        if len(row) > 0 and row[0].isnumeric() and row[0] != '0':\n",
    "            if int(row[0]) < si:\n",
    "                break\n",
    "            if convert_to_number(row[8]) == 0:\n",
    "                continue\n",
    "            df.loc[row_idx, 'Buyer'] = rows[3][0]\n",
    "            df.loc[row_idx, 'Order'] = rows[3][1]\n",
    "            df.loc[row_idx, 'Style'] = rows[3][2]\n",
    "            df.loc[row_idx, 'UoF'] = row[1]\n",
    "            df.loc[row_idx, 'F. Color'] = row[2][0:row[2].find('(')]\n",
    "            df.loc[row_idx, 'G. Color'] = row[3]\n",
    "            df.loc[row_idx, 'Y. Type'] = row[4]\n",
    "            df.loc[row_idx, 'F. Type'] = row[5]\n",
    "            df.loc[row_idx, 'GSM'] = convert_to_number(row[6])\n",
    "            df.loc[row_idx, 'Dia'] = row[7]\n",
    "            df.loc[row_idx, 'G/F Order With S.Note Qty'] = convert_to_number(row[8])\n",
    "            df.loc[row_idx, 'G/F S.Note Qty'] = convert_to_number(row[9])\n",
    "            df.loc[row_idx, 'Net Grey Receive Qty'] = convert_to_number(row[13])\n",
    "            df.loc[row_idx, 'G/F Rcv Balance Qty'] = convert_to_number(row[15])\n",
    "            row_idx += 1\n",
    "            si += 1\n",
    "    \n",
    "    row_idx = row_idx2\n",
    "    si = 0\n",
    "    for row in rows:\n",
    "        if len(row) == 1:\n",
    "                if row[0].startswith('Define Unit::'):\n",
    "                    df.loc[row_idx, 'Unit Store'] = row[0].split('::')[1]\n",
    "                if row[0].startswith('Finish Fabric Delivery'):\n",
    "                    df.loc[row_idx, 'Unit Store'] = 'Jinnat'\n",
    "        if len(row) > 0 and row[0] == 'SL NO.':\n",
    "            si += 1\n",
    "        if len(row) > 0 and si == 2 and row[0].isnumeric() and row[0] != '0':\n",
    "            if convert_to_number(row[8]) == 0:\n",
    "                continue\n",
    "            df.loc[row_idx, 'F/F Order with S.Note Qty'] = convert_to_number(row[8])\n",
    "            df.loc[row_idx, 'F/F S.Note Qty'] = convert_to_number(row[9])\n",
    "            df.loc[row_idx, 'F/F Delv Qty'] = convert_to_number(row[12])\n",
    "            df.loc[row_idx, 'F/F Delv. Balance Qty'] = convert_to_number(row[15])\n",
    "            df.loc[row_idx, 'Replacement Delivery'] = convert_to_number(row[16])\n",
    "            df.loc[row_idx, 'F/F Excess Delv.Qty'] = convert_to_number(row[18])\n",
    "            df.loc[row_idx, 'Transfer To'] = row[19]\n",
    "            df.loc[row_idx, 'Transfer From'] = row[20]\n",
    "            df.loc[row_idx, 'Return Receive'] = convert_to_number(row[22])\n",
    "            df.loc[row_idx, 'Return Delivery'] = convert_to_number(row[23])\n",
    "            df.loc[row_idx, 'Dyeing Unit'] = row[26]\n",
    "            df.loc[row_idx, 'Order Sheet Receive Date'] = rows[3][4]\n",
    "            df.loc[row_idx, 'Cut Plan Start Date'] = rows[3][5]\n",
    "            df.loc[row_idx, 'Cut Plan End Date'] = rows[3][6]\n",
    "            row_idx += 1"
   ]
  },
  {
   "cell_type": "code",
   "execution_count": 9,
   "id": "30c269f8",
   "metadata": {},
   "outputs": [
    {
     "name": "stdout",
     "output_type": "stream",
     "text": [
      "Calculating Combo Status ...\n",
      "{'2025/3985': {'11-0607 Tcx Sugar Swizzle': [[1349.0, 1478.5, 1.0, 'SLUB S/J'], [1287.0, 1114.1, 0.87, 'SLUB S/J']], '17-3918 Tcx-Country Blue': [[1215.0, 1187.0, 0.98, 'SLUB S/J']], '19-3921 TCX-BLACK IRIS': [[1215.0, 1189.0, 0.98, 'SLUB S/J']], '19-1535 Tcx-Syrah': [[1215.0, 1252.3, 1.0, 'SLUB S/J']], '11-0607 Tcx Sugar Swizzle ': [[43.0, 60.0, 1.0, '1X1 FULL FEEDER RIB'], [43.0, 41.0, 0.95, '1X1 FULL FEEDER RIB']], '17-3918 Tcx-Country Blue ': [[43.0, 0.0, 0.0, '1X1 FULL FEEDER RIB']], '19-3921 Tcx-Black Irsh ': [[43.0, 36.0, 0.84, '1X1 FULL FEEDER RIB']], '19-1535 Tcx-Syrah ': [[43.0, 35.0, 0.81, '1X1 FULL FEEDER RIB']]}, '2025/13605': {'Classic Black ': [[3886.0, 0.0, 0.0, 'L S/J']], '11-0601 TCX BRIGHT WHITE ': [[4549.0, 0.0, 0.0, 'L S/J']], 'SNOW WHITE 11-0602 TCX ': [[17464.0, 0.0, 0.0, 'INTERLOCK'], [873.0, 0.0, 0.0, '1x1 RIB']], '232482 Classic Black ': [[9196.0, 0.0, 0.0, 'INTERLOCK'], [461.0, 0.0, 0.0, '1x1 RIB']]}, '2025/6477': {'14-3949 Tcx-Xenon Blue ': [[275.0, 290.1, 1.0, 'S/J'], [20.0, 31.4, 1.0, '1X1 FULL FEEDER RIB']], '15-4707 Tcx-Blue Haze': [[280.0, 265.4, 0.95, 'S/J']], '15-4707 Tcx-Blue Haze ': [[10.0, 18.6, 1.0, 'S/J'], [20.0, 26.5, 1.0, '1X1 FULL FEEDER RIB']], '11-0607 Tcx Sugar Swizzle': [[280.0, 277.0, 0.99, 'S/J']], '19-3933 Tcx-Medival Blue ': [[10.0, 13.0, 1.0, 'S/J'], [20.0, 22.0, 1.0, '1X1 FULL FEEDER RIB']]}}\n"
     ]
    }
   ],
   "source": [
    "print(\"Calculating Combo Status ...\")\n",
    "combo = pd.DataFrame()\n",
    "combo_columns = ['Buyer', 'Order', 'Style', 'UoF', 'F. Color', 'G. Color', 'F. Type', 'F/F Order with S.Note Qty',\t'F/F S.Note Qty',\t'F/F Delv Qty',\t'F/F Delv. Balance Qty',\t'Replacement Delivery',\t'F/F Excess Delv.Qty',\t'Transfer To',\t'Transfer From',\t'Return Receive',\t'Return Delivery',\t'Dyeing Unit',\t'Order Sheet Receive Date', 'Cut Plan Start Date',\t'Cut Plan End Date', 'Unit Store']\n",
    "combo = combo.reindex(columns=combo.columns.tolist() + combo_columns)\n",
    "dev_tolerance = 0.1\n",
    "combo = {}\n",
    "for index, row in df.iterrows():\n",
    "    order = row['Order']\n",
    "    if row['G. Color'] == 'Multi' or row['G. Color'] == '':\n",
    "        color = row['F. Color']\n",
    "        color = color.split(\" AOP\")[0] if \" AOP\" in color else color\n",
    "    else:\n",
    "        color = row['G. Color']\n",
    "    booking_qty = float(row['F/F Order with S.Note Qty'])\n",
    "    receive_qty = float(row['F/F Delv Qty'])\n",
    "    rec_pctg = min(1.0, round((receive_qty / booking_qty) if booking_qty != 0 else 0, 2))\n",
    "    F_type = row['F. Type']\n",
    "    if order not in combo:\n",
    "        combo[order] = {}\n",
    "    if color not in combo[order]:\n",
    "        combo[order][color] = []\n",
    "    \n",
    "    combo[order][color].append([booking_qty, receive_qty, rec_pctg, F_type])\n",
    "print(combo)"
   ]
  },
  {
   "cell_type": "code",
   "execution_count": 10,
   "id": "33741c15",
   "metadata": {},
   "outputs": [],
   "source": [
    "import json\n",
    "\n",
    "with open('combo_output.json', 'w', encoding='utf-8') as f:\n",
    "    json.dump(combo, f, indent=4, ensure_ascii=False)"
   ]
  },
  {
   "cell_type": "code",
   "execution_count": null,
   "id": "666176b6",
   "metadata": {},
   "outputs": [],
   "source": []
  }
 ],
 "metadata": {
  "kernelspec": {
   "display_name": "Python 3",
   "language": "python",
   "name": "python3"
  },
  "language_info": {
   "codemirror_mode": {
    "name": "ipython",
    "version": 3
   },
   "file_extension": ".py",
   "mimetype": "text/x-python",
   "name": "python",
   "nbconvert_exporter": "python",
   "pygments_lexer": "ipython3",
   "version": "3.13.5"
  }
 },
 "nbformat": 4,
 "nbformat_minor": 5
}
